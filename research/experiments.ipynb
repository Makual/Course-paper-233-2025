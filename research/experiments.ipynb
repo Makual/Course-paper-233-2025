{
 "cells": [
  {
   "cell_type": "code",
   "execution_count": 2,
   "id": "970dfc18",
   "metadata": {},
   "outputs": [
    {
     "name": "stderr",
     "output_type": "stream",
     "text": [
      "/usr/local/python/3.12.1/lib/python3.12/site-packages/tqdm/auto.py:21: TqdmWarning: IProgress not found. Please update jupyter and ipywidgets. See https://ipywidgets.readthedocs.io/en/stable/user_install.html\n",
      "  from .autonotebook import tqdm as notebook_tqdm\n"
     ]
    }
   ],
   "source": [
    "import pandas as pd\n",
    "\n",
    "from tfidf import TfidfResearch\n",
    "from bm25 import BM25Research\n",
    "from faiss_index import FaissResearch\n",
    "from qdrant_index import QdrantResearch\n",
    "\n",
    "from sqlalchemy import text\n",
    "from utils import engine\n",
    "from tqdm.autonotebook import tqdm\n",
    "\n",
    "from eval import evaluate\n",
    "import numpy as np\n",
    "from utils import clean_text, STOP_RU"
   ]
  },
  {
   "cell_type": "code",
   "execution_count": 3,
   "id": "179d805f",
   "metadata": {},
   "outputs": [],
   "source": [
    "def load_queries_gt(df: pd.DataFrame) -> tuple[dict[str, list[str]], list[str]]:\n",
    "    \"\"\"\n",
    "    Возвращает:\n",
    "      • q_gt: словарь query → [article_id, ...]\n",
    "      • all_ids: список уникальных article_id (строкового типа)\n",
    "    \"\"\"\n",
    "    \n",
    "    q_gt: dict[str, list[str]] = {}\n",
    "    for _, row in df.iterrows():\n",
    "        q = row[\"query\"]\n",
    "        art_id = str(row[\"article_id\"])\n",
    "        q_gt.setdefault(q, []).append(art_id)\n",
    "\n",
    "    all_ids = df[\"article_id\"].astype(str).unique().tolist()\n",
    "    return q_gt, all_ids\n",
    "\n",
    "def queries_by_diff(df: pd.DataFrame) -> dict[str, dict[str, list[str]]]:\n",
    "    \"\"\"\n",
    "    Строит словари query→[article_id] отдельно для easy/medium/hard и для всех одновременно.\n",
    "    Ожидает на вход именно DataFrame с колонками [\"query\", \"article_id\", \"difficulty\"].\n",
    "    \"\"\"\n",
    "    groups: dict[str, dict[str, list[str]]] = {}\n",
    "    for diff in (\"easy\", \"medium\", \"hard\"):\n",
    "        sub = df[df[\"difficulty\"] == diff]\n",
    "        qgt = {q: [str(doc)] for q, doc in zip(sub[\"query\"], sub[\"article_id\"])}\n",
    "        groups[diff] = qgt\n",
    "\n",
    "    # общий набор для всех трудностей\n",
    "    groups[\"all\"] = {q: [str(doc)] for q, doc in zip(df[\"query\"], df[\"article_id\"])}\n",
    "    return groups"
   ]
  },
  {
   "cell_type": "code",
   "execution_count": 4,
   "id": "fa87b49c",
   "metadata": {},
   "outputs": [
    {
     "name": "stdout",
     "output_type": "stream",
     "text": [
      "Total requests: 2974, Documents in corpus: 1000\n",
      "Groups keys: ['easy', 'medium', 'hard', 'all']\n"
     ]
    }
   ],
   "source": [
    "csv_path = \"synthetic_queries_random_10000.csv\"\n",
    "\n",
    "# 1) Считаем DataFrame\n",
    "df_synth = pd.read_csv(csv_path)[:3000]\n",
    "\n",
    "# 2) Отдельно строим словарь q_gt и all_ids\n",
    "queries_gt, article_ids = load_queries_gt(df_synth)\n",
    "\n",
    "# 3) А для групп по сложности нужно передать в функцию сам DataFrame:\n",
    "q_groups = queries_by_diff(df_synth)\n",
    "\n",
    "print(f\"Total requests: {len(queries_gt)}, Documents in corpus: {len(article_ids)}\")\n",
    "print(f\"Groups keys: {list(q_groups.keys())}\")  # easy, medium, hard, all"
   ]
  },
  {
   "cell_type": "code",
   "execution_count": 5,
   "id": "5d7a5a6e",
   "metadata": {},
   "outputs": [
    {
     "name": "stdout",
     "output_type": "stream",
     "text": [
      "News example: В Таиланде две туристки погибли в упавшей со второго этажа паркинга машине. Две жительницы Таиланда погибли, и еще одна получила ранения, после того к …\n"
     ]
    }
   ],
   "source": [
    "sql = text(\"\"\"\n",
    "    SELECT id::text,\n",
    "           COALESCE(title, '')   AS title,\n",
    "           COALESCE(anons, '')   AS anons,\n",
    "           COALESCE(body, '')    AS body\n",
    "      FROM public.tmp_news\n",
    "     WHERE id = ANY(:ids);\n",
    "\"\"\")\n",
    "\n",
    "df_docs = pd.read_sql(sql, engine, params={\"ids\": article_ids})\n",
    "\n",
    "\n",
    "df_docs[\"full_text\"] = (\n",
    "    df_docs[\"title\"] + \". \" +\n",
    "    df_docs[\"anons\"] + \". \" +\n",
    "    df_docs[\"body\"]\n",
    ")\n",
    "texts = df_docs[\"full_text\"].tolist()\n",
    "ids   = df_docs[\"id\"].tolist()\n",
    "\n",
    "print(\"News example:\", texts[0][:150], \"…\")"
   ]
  },
  {
   "cell_type": "markdown",
   "id": "a651ffec",
   "metadata": {},
   "source": [
    "Base Experiments"
   ]
  },
  {
   "cell_type": "code",
   "execution_count": 12,
   "id": "ec593bd9",
   "metadata": {},
   "outputs": [
    {
     "name": "stderr",
     "output_type": "stream",
     "text": [
      "100%|██████████| 1000/1000 [00:00<00:00, 12464.72it/s]"
     ]
    },
    {
     "name": "stderr",
     "output_type": "stream",
     "text": [
      "\n",
      " 50%|█████     | 2/4 [00:03<00:03,  1.97s/it]"
     ]
    },
    {
     "name": "stdout",
     "output_type": "stream",
     "text": [
      "[Error] query=nan → AttributeError: 'float' object has no attribute 'lower'\n"
     ]
    },
    {
     "name": "stderr",
     "output_type": "stream",
     "text": [
      " 75%|███████▌  | 3/4 [00:05<00:01,  1.99s/it]"
     ]
    },
    {
     "name": "stdout",
     "output_type": "stream",
     "text": [
      "[Error] query=nan → AttributeError: 'float' object has no attribute 'lower'\n"
     ]
    },
    {
     "name": "stderr",
     "output_type": "stream",
     "text": [
      "100%|██████████| 4/4 [00:11<00:00,  2.98s/it]\n"
     ]
    },
    {
     "data": {
      "text/plain": [
       "{'easy': {'Precision@10': 0.09848178137651822,\n",
       "  'Recall@10': 0.9848178137651822,\n",
       "  'MRR': 0.964120638133796},\n",
       " 'medium': {'Precision@10': 0.09627766599597587,\n",
       "  'Recall@10': 0.9627766599597586,\n",
       "  'MRR': 0.9038596659321005},\n",
       " 'hard': {'Precision@10': 0.0933467741935484,\n",
       "  'Recall@10': 0.9334677419354839,\n",
       "  'MRR': 0.8319164426523298},\n",
       " 'all': {'Precision@10': 0.09603227975790181,\n",
       "  'Recall@10': 0.9603227975790182,\n",
       "  'MRR': 0.8998819130880328}}"
      ]
     },
     "execution_count": 12,
     "metadata": {},
     "output_type": "execute_result"
    }
   ],
   "source": [
    "tfidf_backend = TfidfResearch(max_features=30_000)\n",
    "tfidf_backend.index(tqdm(texts), ids)\n",
    "\n",
    "metrics_by_level = {\n",
    "    lvl: evaluate(tfidf_backend, qgt, top_k=10, max_workers=20)\n",
    "    for lvl, qgt in tqdm(q_groups.items())\n",
    "}\n",
    "\n",
    "metrics_by_level"
   ]
  },
  {
   "cell_type": "code",
   "execution_count": 13,
   "id": "0f3e53f2",
   "metadata": {},
   "outputs": [
    {
     "name": "stderr",
     "output_type": "stream",
     "text": [
      " 50%|█████     | 2/4 [00:04<00:05,  2.53s/it]"
     ]
    },
    {
     "name": "stdout",
     "output_type": "stream",
     "text": [
      "[Error] query=nan → AttributeError: 'float' object has no attribute 'lower'\n"
     ]
    },
    {
     "name": "stderr",
     "output_type": "stream",
     "text": [
      " 75%|███████▌  | 3/4 [00:07<00:02,  2.68s/it]"
     ]
    },
    {
     "name": "stdout",
     "output_type": "stream",
     "text": [
      "[Error] query=nan → AttributeError: 'float' object has no attribute 'lower'\n"
     ]
    },
    {
     "name": "stderr",
     "output_type": "stream",
     "text": [
      "100%|██████████| 4/4 [00:15<00:00,  3.88s/it]\n"
     ]
    },
    {
     "data": {
      "text/plain": [
       "{'easy': {'Precision@10': 0.0986842105263158,\n",
       "  'Recall@10': 0.9868421052631579,\n",
       "  'MRR': 0.9734143049932523},\n",
       " 'medium': {'Precision@10': 0.09657947686116701,\n",
       "  'Recall@10': 0.96579476861167,\n",
       "  'MRR': 0.9204432946887675},\n",
       " 'hard': {'Precision@10': 0.09435483870967742,\n",
       "  'Recall@10': 0.9435483870967742,\n",
       "  'MRR': 0.8698680715565795},\n",
       " 'all': {'Precision@10': 0.09653665097511767,\n",
       "  'Recall@10': 0.9653665097511769,\n",
       "  'MRR': 0.9211711819899446}}"
      ]
     },
     "execution_count": 13,
     "metadata": {},
     "output_type": "execute_result"
    }
   ],
   "source": [
    "bm25_backend = BM25Research()\n",
    "bm25_backend.index(texts, ids)\n",
    "\n",
    "metrics_by_level = {\n",
    "    lvl: evaluate(bm25_backend, qgt, top_k=10)\n",
    "    for lvl, qgt in tqdm(q_groups.items())\n",
    "}\n",
    "\n",
    "metrics_by_level"
   ]
  },
  {
   "cell_type": "code",
   "execution_count": null,
   "id": "9602ae99",
   "metadata": {},
   "outputs": [
    {
     "name": "stderr",
     "output_type": "stream",
     "text": [
      "100%|██████████| 1000/1000 [00:00<00:00, 10650.12it/s]\n"
     ]
    },
    {
     "ename": "StopIteration",
     "evalue": "",
     "output_type": "error",
     "traceback": [
      "\u001b[31m---------------------------------------------------------------------------\u001b[39m",
      "\u001b[31mStopIteration\u001b[39m                             Traceback (most recent call last)",
      "\u001b[36mCell\u001b[39m\u001b[36m \u001b[39m\u001b[32mIn[6]\u001b[39m\u001b[32m, line 2\u001b[39m\n\u001b[32m      1\u001b[39m faiss_frida = FaissResearch(model_name=\u001b[33m\"\u001b[39m\u001b[33mvoyageai/voyage-3-large\u001b[39m\u001b[33m\"\u001b[39m, embed_dim=\u001b[32m768\u001b[39m)\n\u001b[32m----> \u001b[39m\u001b[32m2\u001b[39m \u001b[43mfaiss_frida\u001b[49m\u001b[43m.\u001b[49m\u001b[43mindex\u001b[49m\u001b[43m(\u001b[49m\u001b[43mtqdm\u001b[49m\u001b[43m(\u001b[49m\u001b[43mtexts\u001b[49m\u001b[43m)\u001b[49m\u001b[43m,\u001b[49m\u001b[43m \u001b[49m\u001b[43mids\u001b[49m\u001b[43m)\u001b[49m\n\u001b[32m      4\u001b[39m metrics_by_level = {\n\u001b[32m      5\u001b[39m     lvl: evaluate(faiss_frida, qgt, top_k=\u001b[32m10\u001b[39m, max_workers=\u001b[32m20\u001b[39m)\n\u001b[32m      6\u001b[39m     \u001b[38;5;28;01mfor\u001b[39;00m lvl, qgt \u001b[38;5;129;01min\u001b[39;00m tqdm(q_groups.items())\n\u001b[32m      7\u001b[39m }\n\u001b[32m      9\u001b[39m metrics_by_level\n",
      "\u001b[36mFile \u001b[39m\u001b[32m/workspaces/Course-paper-233-2025/research/faiss_index.py:47\u001b[39m, in \u001b[36mFaissResearch.index\u001b[39m\u001b[34m(self, texts, ids)\u001b[39m\n\u001b[32m     42\u001b[39m \u001b[38;5;28;01mdef\u001b[39;00m\u001b[38;5;250m \u001b[39m\u001b[34mindex\u001b[39m(\u001b[38;5;28mself\u001b[39m, texts: List[\u001b[38;5;28mstr\u001b[39m], ids: List[\u001b[38;5;28mstr\u001b[39m]):\n\u001b[32m     43\u001b[39m \u001b[38;5;250m    \u001b[39m\u001b[33;03m\"\"\"\u001b[39;00m\n\u001b[32m     44\u001b[39m \u001b[33;03m    texts: список документов (title+anons+body комбинированные)\u001b[39;00m\n\u001b[32m     45\u001b[39m \u001b[33;03m    ids:   список строковых id длины len(texts)\u001b[39;00m\n\u001b[32m     46\u001b[39m \u001b[33;03m    \"\"\"\u001b[39;00m\n\u001b[32m---> \u001b[39m\u001b[32m47\u001b[39m     vectors = \u001b[38;5;28;43mself\u001b[39;49m\u001b[43m.\u001b[49m\u001b[43m_get_embeddings\u001b[49m\u001b[43m(\u001b[49m\u001b[43mtexts\u001b[49m\u001b[43m)\u001b[49m  \u001b[38;5;66;03m# shape (N, embed_dim)\u001b[39;00m\n\u001b[32m     48\u001b[39m     \u001b[38;5;28mself\u001b[39m.doc_ids = ids\n\u001b[32m     49\u001b[39m     \u001b[38;5;28mself\u001b[39m.embeddings = vectors\n",
      "\u001b[36mFile \u001b[39m\u001b[32m/workspaces/Course-paper-233-2025/research/faiss_index.py:34\u001b[39m, in \u001b[36mFaissResearch._get_embeddings\u001b[39m\u001b[34m(self, texts)\u001b[39m\n\u001b[32m     32\u001b[39m cleaned = [clean_text(t) \u001b[38;5;28;01mfor\u001b[39;00m t \u001b[38;5;129;01min\u001b[39;00m texts]\n\u001b[32m     33\u001b[39m \u001b[38;5;66;03m# HF Inference возвращает список списков: List[List[float]]\u001b[39;00m\n\u001b[32m---> \u001b[39m\u001b[32m34\u001b[39m resp = \u001b[43mclient\u001b[49m\u001b[43m.\u001b[49m\u001b[43mfeature_extraction\u001b[49m\u001b[43m(\u001b[49m\u001b[43mcleaned\u001b[49m\u001b[43m,\u001b[49m\u001b[43m \u001b[49m\u001b[43mmodel\u001b[49m\u001b[43m=\u001b[49m\u001b[38;5;28;43mself\u001b[39;49m\u001b[43m.\u001b[49m\u001b[43mmodel_name\u001b[49m\u001b[43m)\u001b[49m\n\u001b[32m     35\u001b[39m arr = np.array(resp, dtype=np.float32)\n\u001b[32m     36\u001b[39m \u001b[38;5;66;03m# L2‐нормализация вручную:\u001b[39;00m\n",
      "\u001b[36mFile \u001b[39m\u001b[32m/usr/local/python/3.12.1/lib/python3.12/site-packages/huggingface_hub/inference/_client.py:1074\u001b[39m, in \u001b[36mInferenceClient.feature_extraction\u001b[39m\u001b[34m(self, text, normalize, prompt_name, truncate, truncation_direction, model)\u001b[39m\n\u001b[32m   1028\u001b[39m \u001b[38;5;250m\u001b[39m\u001b[33;03m\"\"\"\u001b[39;00m\n\u001b[32m   1029\u001b[39m \u001b[33;03mGenerate embeddings for a given text.\u001b[39;00m\n\u001b[32m   1030\u001b[39m \n\u001b[32m   (...)\u001b[39m\u001b[32m   1071\u001b[39m \u001b[33;03m```\u001b[39;00m\n\u001b[32m   1072\u001b[39m \u001b[33;03m\"\"\"\u001b[39;00m\n\u001b[32m   1073\u001b[39m model_id = model \u001b[38;5;129;01mor\u001b[39;00m \u001b[38;5;28mself\u001b[39m.model\n\u001b[32m-> \u001b[39m\u001b[32m1074\u001b[39m provider_helper = \u001b[43mget_provider_helper\u001b[49m\u001b[43m(\u001b[49m\u001b[38;5;28;43mself\u001b[39;49m\u001b[43m.\u001b[49m\u001b[43mprovider\u001b[49m\u001b[43m,\u001b[49m\u001b[43m \u001b[49m\u001b[43mtask\u001b[49m\u001b[43m=\u001b[49m\u001b[33;43m\"\u001b[39;49m\u001b[33;43mfeature-extraction\u001b[39;49m\u001b[33;43m\"\u001b[39;49m\u001b[43m,\u001b[49m\u001b[43m \u001b[49m\u001b[43mmodel\u001b[49m\u001b[43m=\u001b[49m\u001b[43mmodel_id\u001b[49m\u001b[43m)\u001b[49m\n\u001b[32m   1075\u001b[39m request_parameters = provider_helper.prepare_request(\n\u001b[32m   1076\u001b[39m     inputs=text,\n\u001b[32m   1077\u001b[39m     parameters={\n\u001b[32m   (...)\u001b[39m\u001b[32m   1085\u001b[39m     api_key=\u001b[38;5;28mself\u001b[39m.token,\n\u001b[32m   1086\u001b[39m )\n\u001b[32m   1087\u001b[39m response = \u001b[38;5;28mself\u001b[39m._inner_post(request_parameters)\n",
      "\u001b[36mFile \u001b[39m\u001b[32m/usr/local/python/3.12.1/lib/python3.12/site-packages/huggingface_hub/inference/_providers/__init__.py:177\u001b[39m, in \u001b[36mget_provider_helper\u001b[39m\u001b[34m(provider, task, model)\u001b[39m\n\u001b[32m    175\u001b[39m         \u001b[38;5;28;01mraise\u001b[39;00m \u001b[38;5;167;01mValueError\u001b[39;00m(\u001b[33m\"\u001b[39m\u001b[33mSpecifying a model is required when provider is \u001b[39m\u001b[33m'\u001b[39m\u001b[33mauto\u001b[39m\u001b[33m'\u001b[39m\u001b[33m\"\u001b[39m)\n\u001b[32m    176\u001b[39m     provider_mapping = _fetch_inference_provider_mapping(model)\n\u001b[32m--> \u001b[39m\u001b[32m177\u001b[39m     provider = \u001b[38;5;28;43mnext\u001b[39;49m\u001b[43m(\u001b[49m\u001b[38;5;28;43miter\u001b[39;49m\u001b[43m(\u001b[49m\u001b[43mprovider_mapping\u001b[49m\u001b[43m)\u001b[49m\u001b[43m)\u001b[49m\n\u001b[32m    179\u001b[39m provider_tasks = PROVIDERS.get(provider)  \u001b[38;5;66;03m# type: ignore\u001b[39;00m\n\u001b[32m    180\u001b[39m \u001b[38;5;28;01mif\u001b[39;00m provider_tasks \u001b[38;5;129;01mis\u001b[39;00m \u001b[38;5;28;01mNone\u001b[39;00m:\n",
      "\u001b[31mStopIteration\u001b[39m: "
     ]
    }
   ],
   "source": [
    "faiss_frida = FaissResearch(model_name=\"sergeyzh/BERTA\", embed_dim=768)\n",
    "faiss_frida.index(tqdm(texts), ids)\n",
    "\n",
    "metrics_by_level = {\n",
    "    lvl: evaluate(faiss_frida, qgt, top_k=10, max_workers=20)\n",
    "    for lvl, qgt in tqdm(q_groups.items())\n",
    "}\n",
    "\n",
    "metrics_by_level"
   ]
  },
  {
   "cell_type": "code",
   "execution_count": 55,
   "id": "028d9771",
   "metadata": {},
   "outputs": [
    {
     "data": {
      "text/plain": [
       "{'easy': {'Precision@10': 0.09897959183673469,\n",
       "  'Recall@10': 0.9897959183673469,\n",
       "  'MRR': 0.9447278911564627},\n",
       " 'medium': {'Precision@10': 0.09898989898989898,\n",
       "  'Recall@10': 0.98989898989899,\n",
       "  'MRR': 0.9562289562289563},\n",
       " 'hard': {'Precision@10': 0.09899999999999999,\n",
       "  'Recall@10': 0.99,\n",
       "  'MRR': 0.9683333333333333},\n",
       " 'all': {'Precision@10': 0.09898989898989899,\n",
       "  'Recall@10': 0.98989898989899,\n",
       "  'MRR': 0.9565095398428731}}"
      ]
     },
     "execution_count": 55,
     "metadata": {},
     "output_type": "execute_result"
    }
   ],
   "source": [
    "qdrant_backend = QdrantResearch(\n",
    "    collection_name=\"news_research_synth\",\n",
    "    model_name=\"sergeyzh/BERTA\",\n",
    "    embed_dim=768,\n",
    ")\n",
    "qdrant_backend.index(texts, ids)\n",
    "\n",
    "metrics_by_level = {\n",
    "    lvl: evaluate(qdrant_backend, qgt, top_k=10)\n",
    "    for lvl, qgt in q_groups.items()\n",
    "}\n",
    "\n",
    "metrics_by_level"
   ]
  },
  {
   "cell_type": "markdown",
   "id": "8de543e6",
   "metadata": {},
   "source": [
    "*Additional experiments*"
   ]
  },
  {
   "cell_type": "markdown",
   "id": "0adc3be6",
   "metadata": {},
   "source": [
    "Lemmatise"
   ]
  },
  {
   "cell_type": "code",
   "execution_count": 34,
   "id": "14cc72ab",
   "metadata": {},
   "outputs": [
    {
     "name": "stderr",
     "output_type": "stream",
     "text": [
      "pymorphy lemmatize:   0%|          | 0/100 [00:00<?, ?it/s]"
     ]
    },
    {
     "name": "stderr",
     "output_type": "stream",
     "text": [
      "pymorphy lemmatize: 100%|██████████| 100/100 [00:01<00:00, 51.81it/s]\n",
      "lemmatize queries: 100%|██████████| 297/297 [00:00<00:00, 1220.65it/s]\n"
     ]
    }
   ],
   "source": [
    "import inspect\n",
    "if not hasattr(inspect, \"getargspec\"):\n",
    "    inspect.getargspec = inspect.getfullargspec      # <-- добавляем\n",
    "\n",
    "# теперь можно спокойно импортировать MorphAnalyzer\n",
    "from pymorphy2 import MorphAnalyzer\n",
    "import nltk, re\n",
    "nltk.download(\"punkt\", quiet=True)\n",
    "\n",
    "morph = MorphAnalyzer()\n",
    "\n",
    "def lemmatize_text(txt: str) -> str:\n",
    "    tokens = [tok for tok in nltk.word_tokenize(txt.lower()) if tok.isalpha()]\n",
    "    lemmas = [\n",
    "        morph.parse(tok)[0].normal_form\n",
    "        for tok in tokens\n",
    "        if len(tok) > 2\n",
    "    ]\n",
    "    return \" \".join(lemmas)\n",
    "\n",
    "# Применяем лемматизацию ко всем текстам (может быть долго, идёт прогресс-баром)\n",
    "texts_lemma = [lemmatize_text(t) for t in tqdm(texts, desc=\"pymorphy lemmatize\")]\n",
    "queries_gt_lemma: dict[str, list[str]] = {}\n",
    "\n",
    "for q, ids_list in tqdm(queries_gt.items(), desc=\"lemmatize queries\"):\n",
    "    lem_q = lemmatize_text(q)                  # ← ваша функция из шага 5.1\n",
    "    # объединяем id, если лемматизированный ключ уже встречался\n",
    "    queries_gt_lemma.setdefault(lem_q, []).extend(ids_list)\n",
    "\n",
    "# (необязательно) уберём дубликаты id в каждом списке\n",
    "for k in queries_gt_lemma:\n",
    "    queries_gt_lemma[k] = list(set(queries_gt_lemma[k]))"
   ]
  },
  {
   "cell_type": "code",
   "execution_count": 35,
   "id": "aa8ee159",
   "metadata": {},
   "outputs": [
    {
     "name": "stdout",
     "output_type": "stream",
     "text": [
      "TF-IDF + Pymorphy: {'Precision@10': 0.09797979797979796, 'Recall@10': 0.9696969696969697, 'MRR': 0.9380471380471381}\n"
     ]
    }
   ],
   "source": [
    "tfidf_lemma = TfidfResearch(max_features=30_000)\n",
    "tfidf_lemma.index(texts_lemma, ids)\n",
    "metrics_tfidf_lemma = evaluate(tfidf_lemma, queries_gt_lemma, top_k=10)\n",
    "print(\"TF-IDF + Pymorphy:\", metrics_tfidf_lemma)"
   ]
  },
  {
   "cell_type": "code",
   "execution_count": null,
   "id": "65034479",
   "metadata": {},
   "outputs": [
    {
     "name": "stdout",
     "output_type": "stream",
     "text": [
      "BM-25 + Natasha-лемматизация: {'Precision@10': 0.09797979797979796, 'Recall@10': 0.9696969696969697, 'MRR': 0.9486531986531986}\n"
     ]
    }
   ],
   "source": [
    "bm25_backend = BM25Research()\n",
    "bm25_backend.index(texts_lemma, ids)\n",
    "metrics_bm25_lemma = evaluate(bm25_backend, queries_gt_lemma, top_k=10)\n",
    "print(\"BM-25 + Pymorphy:\", metrics_bm25_lemma)"
   ]
  },
  {
   "cell_type": "code",
   "execution_count": 33,
   "id": "7bb5510d",
   "metadata": {},
   "outputs": [
    {
     "name": "stdout",
     "output_type": "stream",
     "text": [
      "FAISS + Pymorphy: {'Precision@10': 0.09999999999999999, 'Recall@10': 0.98989898989899, 'MRR': 0.9562289562289562}\n"
     ]
    }
   ],
   "source": [
    "faiss_frida = FaissResearch(model_name=\"sergeyzh/BERTA\", embed_dim=768)\n",
    "faiss_frida.index(texts_lemma, ids)\n",
    "metrics_bm25_lemma = evaluate(faiss_frida, queries_gt_lemma, top_k=10)\n",
    "print(\"FAISS + Pymorphy:\", metrics_bm25_lemma)"
   ]
  },
  {
   "cell_type": "markdown",
   "id": "e3fe44f2",
   "metadata": {},
   "source": [
    "Spellchecker"
   ]
  },
  {
   "cell_type": "code",
   "execution_count": 35,
   "id": "9604d5f9",
   "metadata": {},
   "outputs": [
    {
     "name": "stderr",
     "output_type": "stream",
     "text": [
      "  0%|          | 0/297 [00:00<?, ?it/s]"
     ]
    },
    {
     "name": "stderr",
     "output_type": "stream",
     "text": [
      "100%|██████████| 297/297 [04:13<00:00,  1.17it/s]"
     ]
    },
    {
     "name": "stdout",
     "output_type": "stream",
     "text": [
      "BM25 + spell-коррекция: {'Precision@10': 0.09528619528619528, 'Recall@10': 0.9427609427609428, 'MRR': 0.8620490620490622}\n"
     ]
    },
    {
     "name": "stderr",
     "output_type": "stream",
     "text": [
      "\n"
     ]
    }
   ],
   "source": [
    "from spellchecker import SpellChecker\n",
    "spell = SpellChecker(language=\"ru\")\n",
    "\n",
    "def spell_correct(txt: str) -> str:\n",
    "    toks  = txt.split()\n",
    "    fixed = [spell.correction(t) or t for t in toks]\n",
    "    return \" \".join(fixed)\n",
    "\n",
    "\n",
    "queries_gt_spell = {spell_correct(q): gts for q, gts in tqdm(queries_gt.items())}\n",
    "\n",
    "bm25_spell = BM25Research()\n",
    "bm25_spell.index(texts, ids)\n",
    "metrics_bm25_spell = evaluate(bm25_spell, queries_gt_spell, top_k=10)\n",
    "print(\"BM25 + spell-коррекция:\", metrics_bm25_spell)\n"
   ]
  },
  {
   "cell_type": "markdown",
   "id": "d8fce1e1",
   "metadata": {},
   "source": [
    "Hybrid search"
   ]
  },
  {
   "cell_type": "code",
   "execution_count": 31,
   "id": "9d6d6cb3",
   "metadata": {},
   "outputs": [],
   "source": [
    "faiss_full = FaissResearch(model_name=\"sergeyzh/BERTA\")\n",
    "faiss_full.index(texts, ids)                 # ← долго, но один раз!\n",
    "doc_embs      = faiss_full.embeddings        # ndarray shape (N, 768)\n",
    "id2pos: dict  = {doc_id: i for i, doc_id in enumerate(ids)}\n"
   ]
  },
  {
   "cell_type": "code",
   "execution_count": 32,
   "id": "11e798c8",
   "metadata": {},
   "outputs": [],
   "source": [
    "def hybrid_search_fast(query: str, N: int = 100, top_k: int = 10):\n",
    "    top_tfidf = tfidf_lemma.search(query, top_k=N)\n",
    "    sub_idx   = np.array([id2pos[d] for d, _ in top_tfidf], dtype=np.int64)\n",
    "\n",
    "    q_vec = faiss_full._get_embeddings([query])   \n",
    "\n",
    "    scores = np.squeeze(q_vec @ doc_embs[sub_idx].T)\n",
    "\n",
    "    order  = np.argsort(scores)[::-1][:top_k]\n",
    "    result = [(ids[sub_idx[i]], float(scores[i])) for i in order]\n",
    "    return result\n",
    "\n",
    "\n",
    "class HybridFastBackend:\n",
    "    def __init__(self, N=100, top_k=10):\n",
    "        self.N = N\n",
    "        self.top_k = top_k\n",
    "    def index(self, *args, **kwargs):\n",
    "        pass                               # ничего не нужно — всё уже посчитано\n",
    "    def search(self, q, top_k=10):\n",
    "        return hybrid_search_fast(q, N=self.N, top_k=top_k)"
   ]
  },
  {
   "cell_type": "code",
   "execution_count": 36,
   "id": "62bc0e9e",
   "metadata": {},
   "outputs": [
    {
     "data": {
      "text/plain": [
       "{'easy': {'Precision@10': 0.09285714285714286,\n",
       "  'Recall@10': 0.9285714285714286,\n",
       "  'MRR': 0.9132653061224489},\n",
       " 'medium': {'Precision@10': 0.0909090909090909,\n",
       "  'Recall@10': 0.9090909090909091,\n",
       "  'MRR': 0.9040404040404041},\n",
       " 'hard': {'Precision@10': 0.08899999999999998,\n",
       "  'Recall@10': 0.89,\n",
       "  'MRR': 0.865},\n",
       " 'all': {'Precision@10': 0.0909090909090909,\n",
       "  'Recall@10': 0.9090909090909091,\n",
       "  'MRR': 0.8939393939393939}}"
      ]
     },
     "execution_count": 36,
     "metadata": {},
     "output_type": "execute_result"
    }
   ],
   "source": [
    "hybrid_fast = HybridFastBackend(N=50)\n",
    "\n",
    "metrics_by_level = {\n",
    "    lvl: evaluate(hybrid_fast, qgt, top_k=10)\n",
    "    for lvl, qgt in q_groups.items()\n",
    "}\n",
    "\n",
    "metrics_by_level"
   ]
  },
  {
   "cell_type": "markdown",
   "id": "b4dd642f",
   "metadata": {},
   "source": [
    "Named entity recognition improvement"
   ]
  },
  {
   "cell_type": "code",
   "execution_count": 29,
   "id": "39214af3",
   "metadata": {},
   "outputs": [
    {
     "name": "stderr",
     "output_type": "stream",
     "text": [
      "NER payload: 100%|██████████| 100/100 [00:01<00:00, 74.38it/s]"
     ]
    },
    {
     "name": "stdout",
     "output_type": "stream",
     "text": [
      "Пример payload: [('bab34614b4129cc31283bce68438232b', ['LOC:новосибирске', 'LOC:новосибирске', 'LOC:дзержинского района', 'LOC:новосибирске', 'LOC:нсо', 'LOC:дзержинского района']), ('fd20e477c9c7d337a3fd5db6e6100321', ['ORG:русской православной церкви', 'LOC:московский', 'PER:кирилл', 'ORG:архиерейского собора', 'ORG:священного синода', 'LOC:московский', 'PER:кирилл', 'ORG:архиерейского собора', 'ORG:священного синода&quot', 'ORG:&quot']), ('a7bd3167d8fff552a622130a59935bc2', ['LOC:германии', 'LOC:германии', 'LOC:аугсбурге', 'LOC:швабия', 'LOC:германии', 'LOC:аугсбурге', 'ORG:тасс'])]\n"
     ]
    },
    {
     "name": "stderr",
     "output_type": "stream",
     "text": [
      "\n"
     ]
    }
   ],
   "source": [
    "# ──────────────────────────────────────────────────────────────\n",
    "# 1. NER-настройка (Natasha)\n",
    "# ──────────────────────────────────────────────────────────────\n",
    "from natasha import Doc, Segmenter, NewsEmbedding, NewsNERTagger\n",
    "from tqdm.auto import tqdm\n",
    "\n",
    "segmenter = Segmenter()\n",
    "emb       = NewsEmbedding()\n",
    "ner       = NewsNERTagger(emb)\n",
    "\n",
    "def extract_ents(text: str) -> list[str]:\n",
    "    \"\"\"\n",
    "    Возвращает список строк вида 'LOC:москва', 'ORG:роснефть', ...\n",
    "    анализируя первые 600 символов текста.\n",
    "    \"\"\"\n",
    "    doc = Doc(text[:600])\n",
    "    doc.segment(segmenter)\n",
    "    doc.tag_ner(ner)\n",
    "    return [f\"{s.type}:{s.text.lower()}\" for s in doc.spans]\n",
    "\n",
    "\n",
    "from faiss_index import FaissResearch   # ваш переименованный файл\n",
    "\n",
    "faiss_full = FaissResearch(model_name=\"sergeyzh/BERTA\")   # или FRIDA, e5 …\n",
    "faiss_full.index(texts, ids)                              # обычный индекс\n",
    "\n",
    "# Добавляем словарь {id: [ents]} прямо в объект\n",
    "faiss_full.id2ents = {\n",
    "    str(ids[i]): extract_ents(texts[i])\n",
    "    for i in tqdm(range(len(ids)), desc=\"NER payload\")\n",
    "}\n",
    "\n",
    "print(\"Пример payload:\", list(faiss_full.id2ents.items())[:3])\n"
   ]
  },
  {
   "cell_type": "code",
   "execution_count": 30,
   "id": "3dc61571",
   "metadata": {},
   "outputs": [
    {
     "name": "stdout",
     "output_type": "stream",
     "text": [
      "\n",
      "Q: пожар в москве\n",
      "Без boost: [('fc8902157d344ae9ddb6602b9a8caaa3', 1.0448417663574219), ('a7a1a0e755c6bdc594d37cdaeecf07cc', 1.0448417663574219), ('15c3f7bc4e8f76ac01ce63cf4ea0f65e', 1.3028838634490967), ('2fb11a24a2cdc69e9c239b1e861ef910', 1.3695847988128662), ('0c292ceb9e63b4b3ed5c6d7be6f43019', 1.4129849672317505)]\n",
      "NER-boost: [('4a7fd74fcfc97e870e28a3464b155be2', 1.7553651332855225), ('fd20e477c9c7d337a3fd5db6e6100321', 1.7528676986694336), ('51517c3348b0f0a143d5fed13c7ec6f9', 1.7474628686904907), ('5510d8d9947b0badf27989399afc67f8', 1.738696813583374), ('5e990eb7f33144dd29f6fef8b2b0e493', 1.7267558574676514)]\n",
      "\n",
      "Q: встреча с путином\n",
      "Без boost: [('fc8902157d344ae9ddb6602b9a8caaa3', 1.0292555093765259), ('a7a1a0e755c6bdc594d37cdaeecf07cc', 1.0292555093765259), ('6440bfae1bbfb1d74e93d600a2070311', 1.2496813535690308), ('d949c94b0099d8292921907dfad59612', 1.2940669059753418), ('aaf6b12185577cc6f2d97bde0e75a238', 1.338442325592041)]\n",
      "NER-boost: [('b2fc9c914e0c5aa3669a2f093d48d8c7', 1.6160423755645752), ('51517c3348b0f0a143d5fed13c7ec6f9', 1.6097761392593384), ('dc3b311d1e52f33f0e6547d9193b3c9d', 1.5948646068572998), ('fd20e477c9c7d337a3fd5db6e6100321', 1.5895018577575684), ('141c03acb74b30e524f4d32e193cea8a', 1.5681354999542236)]\n"
     ]
    }
   ],
   "source": [
    "def ner_boost_faiss(query: str, top_k: int = 10, alpha: float = 0.2):\n",
    "    \"\"\"\n",
    "    1) векторный поиск FAISS\n",
    "    2) + бонус `alpha` за каждую общую сущность запроса и документа\n",
    "    \"\"\"\n",
    "    ents_q = extract_ents(query)\n",
    "    raw = faiss_full.search(query, top_k=top_k*3)    # берём запас\n",
    "    scored = []\n",
    "    for doc_id, base_score in raw:\n",
    "        overlap = len(set(faiss_full.id2ents.get(doc_id, [])) & set(ents_q))\n",
    "        scored.append((doc_id, base_score + alpha*overlap))\n",
    "    scored.sort(key=lambda x: x[1], reverse=True)\n",
    "    return scored[:top_k]\n",
    "\n",
    "\n",
    "# ► Проверяем\n",
    "for q in [\"пожар в москве\", \"встреча с путином\"]:\n",
    "    print(\"\\nQ:\", q)\n",
    "    print(\"Без boost:\", faiss_full.search(q, 5))\n",
    "    print(\"NER-boost:\", ner_boost_faiss(q, 5))\n"
   ]
  },
  {
   "cell_type": "code",
   "execution_count": 44,
   "id": "9a736d65",
   "metadata": {},
   "outputs": [],
   "source": [
    "# ══════════════════════════════════════════════════════════════════════════════\n",
    "# БЫСТРЫЙ HYBRID-backend: сравниваем «без NER» vs «с NER-boost»\n",
    "# ══════════════════════════════════════════════════════════════════════════════\n",
    "# требуются:\n",
    "# • tfidf_lemma          – уже обученный TF-IDF (на леммах)\n",
    "# • doc_embs (np.ndarray)– эмбеддинги всех docs,   shape = (len(ids), 768)\n",
    "# • id2pos               – словарь {doc_id → index в doc_embs}\n",
    "# • id2ents              – словарь {doc_id → [список сущностей]}  (см. предыдущую ячейку)\n",
    "# • функции extract_ents  – NER из запроса\n",
    "\n",
    "import numpy as np\n",
    "from eval import evaluate\n",
    "\n",
    "# ───────────────────────────────\n",
    "# 1. Поиск без NER-бонуса\n",
    "# ───────────────────────────────\n",
    "def hybrid_search_fast(query: str, N: int = 100, top_k: int = 10):\n",
    "    top_tfidf = tfidf_lemma.search(query, top_k=N)\n",
    "    sub_idx   = np.array([id2pos[d] for d, _ in top_tfidf], dtype=np.int64)\n",
    "\n",
    "    q_vec  = faiss_full._get_embeddings([query])          # (1,768)\n",
    "    scores = np.squeeze(q_vec @ doc_embs[sub_idx].T)      # (N,)\n",
    "\n",
    "    order  = np.argsort(scores)[::-1][:top_k]\n",
    "    return [(ids[sub_idx[i]], float(scores[i])) for i in order]\n",
    "\n",
    "class HybridFastBackend:\n",
    "    def __init__(self, N=100):\n",
    "        self.N = N\n",
    "    def index(self, *args, **kwargs):          # не нужен\n",
    "        pass\n",
    "    def search(self, q, top_k=10):\n",
    "        return hybrid_search_fast(q, self.N, top_k)\n",
    "\n",
    "# ───────────────────────────────\n",
    "# 2. Поиск с NER-boost\n",
    "# ───────────────────────────────\n",
    "def hybrid_search_fast_ner(query: str, N: int = 100, top_k: int = 10,\n",
    "                           alpha: float = 0.2):\n",
    "    top_tfidf = tfidf_lemma.search(query, top_k=N)\n",
    "    sub_idx   = np.array([id2pos[d] for d, _ in top_tfidf], dtype=np.int64)\n",
    "\n",
    "    q_vec  = faiss_full._get_embeddings([query])\n",
    "    scores = np.squeeze(q_vec @ doc_embs[sub_idx].T)\n",
    "\n",
    "    ents_q = set(extract_ents(query))\n",
    "    # добавляем бонус за пересечение сущностей\n",
    "    for j, doc_idx in enumerate(sub_idx):\n",
    "        overlap = len(ents_q & set(faiss_full.id2ents.get(ids[doc_idx], [])))\n",
    "        scores[j] += alpha * overlap\n",
    "\n",
    "    order  = np.argsort(scores)[::-1][:top_k]\n",
    "    return [(ids[sub_idx[i]], float(scores[i])) for i in order]\n",
    "\n",
    "class HybridFastNERBackend(HybridFastBackend):\n",
    "    def __init__(self, N=100, alpha=0.2):\n",
    "        super().__init__(N)\n",
    "        self.alpha = alpha\n",
    "    def search(self, q, top_k=10):\n",
    "        return hybrid_search_fast_ner(q, self.N, top_k, self.alpha)\n",
    "\n"
   ]
  },
  {
   "cell_type": "code",
   "execution_count": null,
   "id": "a30456cc",
   "metadata": {},
   "outputs": [],
   "source": [
    "hybrid_plain = HybridFastBackend(N=50)\n",
    "metrics_plain = {\n",
    "    lvl: evaluate(hybrid_plain, qgt, top_k=10)\n",
    "    for lvl, qgt in q_groups.items()\n",
    "}"
   ]
  },
  {
   "cell_type": "code",
   "execution_count": 46,
   "id": "cef0d31c",
   "metadata": {},
   "outputs": [
    {
     "name": "stderr",
     "output_type": "stream",
     "text": [
      "NER payload: 100%|██████████| 100/100 [00:00<00:00, 109.64it/s]\n"
     ]
    }
   ],
   "source": [
    "hybrid_ner   = HybridFastNERBackend(N=50, alpha=0.05)\n",
    "faiss_full.id2ents = {\n",
    "    str(ids[i]): extract_ents(texts[i])\n",
    "    for i in tqdm(range(len(ids)), desc=\"NER payload\")\n",
    "}\n",
    "metrics_ner = {\n",
    "    lvl: evaluate(hybrid_ner, qgt, top_k=10)\n",
    "    for lvl, qgt in q_groups.items()\n",
    "}"
   ]
  },
  {
   "cell_type": "code",
   "execution_count": 47,
   "id": "2dd50f17",
   "metadata": {},
   "outputs": [],
   "source": [
    "df_plain = (pd.DataFrame(metrics_plain).T\n",
    "            .assign(version=\"plain\")\n",
    "            .reset_index(names=\"level\"))\n",
    "df_ner   = (pd.DataFrame(metrics_ner).T\n",
    "            .assign(version=\"ner_boost\")\n",
    "            .reset_index(names=\"level\"))\n",
    "\n",
    "df_cmp = pd.concat([df_plain, df_ner])\n"
   ]
  },
  {
   "cell_type": "code",
   "execution_count": 48,
   "id": "924bcd7c",
   "metadata": {},
   "outputs": [
    {
     "data": {
      "image/png": "[encoded data removed]",
      "text/plain": [
       "<Figure size 600x400 with 1 Axes>"
      ]
     },
     "metadata": {},
     "output_type": "display_data"
    }
   ],
   "source": [
    "import seaborn as sns, matplotlib.pyplot as plt\n",
    "plt.figure(figsize=(6,4))\n",
    "sns.barplot(data=df_cmp, x=\"level\", y=\"MRR\", hue=\"version\")\n",
    "plt.title(\"Precision@10: Hybrid vs Hybrid + NER-boost\")\n",
    "plt.show()"
   ]
  },
  {
   "cell_type": "markdown",
   "id": "d75ecf68",
   "metadata": {},
   "source": [
    "Topic clustering"
   ]
  },
  {
   "cell_type": "code",
   "execution_count": 3,
   "id": "f509662a",
   "metadata": {},
   "outputs": [
    {
     "ename": "NameError",
     "evalue": "name 'texts' is not defined",
     "output_type": "error",
     "traceback": [
      "\u001b[31m---------------------------------------------------------------------------\u001b[39m",
      "\u001b[31mNameError\u001b[39m                                 Traceback (most recent call last)",
      "\u001b[36mCell\u001b[39m\u001b[36m \u001b[39m\u001b[32mIn[3]\u001b[39m\u001b[32m, line 2\u001b[39m\n\u001b[32m      1\u001b[39m faiss_frida = FaissResearch(model_name=\u001b[33m\"\u001b[39m\u001b[33msergeyzh/BERTA\u001b[39m\u001b[33m\"\u001b[39m, embed_dim=\u001b[32m768\u001b[39m)\n\u001b[32m----> \u001b[39m\u001b[32m2\u001b[39m faiss_frida.index(\u001b[43mtexts\u001b[49m, ids)\n\u001b[32m      4\u001b[39m \u001b[38;5;28;01mfrom\u001b[39;00m\u001b[38;5;250m \u001b[39m\u001b[34;01msklearn\u001b[39;00m\u001b[34;01m.\u001b[39;00m\u001b[34;01mcluster\u001b[39;00m\u001b[38;5;250m \u001b[39m\u001b[38;5;28;01mimport\u001b[39;00m MiniBatchKMeans\n\u001b[32m      5\u001b[39m \u001b[38;5;28;01mfrom\u001b[39;00m\u001b[38;5;250m \u001b[39m\u001b[34;01msklearn\u001b[39;00m\u001b[34;01m.\u001b[39;00m\u001b[34;01mmanifold\u001b[39;00m\u001b[38;5;250m \u001b[39m\u001b[38;5;28;01mimport\u001b[39;00m TSNE   \u001b[38;5;66;03m# для картинки 2-D\u001b[39;00m\n",
      "\u001b[31mNameError\u001b[39m: name 'texts' is not defined"
     ]
    }
   ],
   "source": [
    "faiss_frida = FaissResearch(model_name=\"sergeyzh/BERTA\", embed_dim=768)\n",
    "faiss_frida.index(texts, ids)\n",
    "\n",
    "from sklearn.cluster import MiniBatchKMeans\n",
    "from sklearn.manifold import TSNE   # для картинки 2-D\n",
    "import matplotlib.pyplot as plt\n",
    "\n",
    "emb = faiss_frida.embeddings          # shape (N,768)\n",
    "kmeans = MiniBatchKMeans(n_clusters=20, batch_size=1024, random_state=42).fit(emb)\n",
    "df_docs[\"cluster\"] = kmeans.labels_\n",
    "\n",
    "# ── 2-D-проекция на t-SNE для иллюстрации ──\n",
    "subset = emb[:2000]                   # чтобы t-SNE не тормозил\n",
    "tsne2d  = TSNE(n_components=2, perplexity=30, init=\"pca\", random_state=42).fit_transform(subset)\n",
    "plt.figure(figsize=(6,5))\n",
    "plt.scatter(tsne2d[:,0], tsne2d[:,1], c=kmeans.labels_[:2000], s=12, cmap=\"tab20\")\n",
    "plt.title(\"Тематические кластеры новостей (t-SNE)\")\n",
    "plt.axis(\"off\")\n",
    "plt.show()"
   ]
  },
  {
   "cell_type": "code",
   "execution_count": null,
   "id": "85b48e42",
   "metadata": {},
   "outputs": [],
   "source": []
  }
 ],
 "metadata": {
  "kernelspec": {
   "display_name": "Python 3",
   "language": "python",
   "name": "python3"
  },
  "language_info": {
   "codemirror_mode": {
    "name": "ipython",
    "version": 3
   },
   "file_extension": ".py",
   "mimetype": "text/x-python",
   "name": "python",
   "nbconvert_exporter": "python",
   "pygments_lexer": "ipython3",
   "version": "3.12.1"
  }
 },
 "nbformat": 4,
 "nbformat_minor": 5
}
