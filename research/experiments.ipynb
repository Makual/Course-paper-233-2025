{
 "cells": [
  {
   "cell_type": "code",
   "execution_count": 42,
   "id": "970dfc18",
   "metadata": {},
   "outputs": [],
   "source": [
    "import pandas as pd\n",
    "\n",
    "from tfidf import TfidfResearch\n",
    "from bm25 import BM25Research\n",
    "from faiss_index import FaissResearch\n",
    "from qdrant_index import QdrantResearch\n",
    "\n",
    "from sqlalchemy import text\n",
    "from utils import engine\n",
    "from tqdm.autonotebook import tqdm\n",
    "\n",
    "from eval import evaluate\n",
    "import numpy as np\n",
    "from utils import clean_text, STOP_RU"
   ]
  },
  {
   "cell_type": "code",
   "execution_count": null,
   "id": "179d805f",
   "metadata": {},
   "outputs": [],
   "source": [
    "def load_queries_gt(csv_path: str) -> tuple[dict[str, list[str]], list[str]]:\n",
    "    df = pd.read_csv(csv_path)\n",
    "    q_gt: dict[str, list[str]] = {}\n",
    "    for _, row in df.iterrows():\n",
    "        q = row[\"query\"]\n",
    "        art_id  = str(row[\"article_id\"]) \n",
    "        q_gt.setdefault(q, []).append(str(art_id))\n",
    "\n",
    "    all_ids = df[\"article_id\"].astype(str).unique().tolist()\n",
    "    return q_gt, all_ids\n",
    "\n",
    "def queries_by_diff(df: pd.DataFrame) -> dict[str, dict[str, list[str]]]:\n",
    "    groups = {}\n",
    "    for diff in (\"easy\", \"medium\", \"hard\"):\n",
    "        sub = df[df[\"difficulty\"] == diff]\n",
    "        qgt = {q: [str(doc)] for q, doc in zip(sub[\"query\"], sub[\"article_id\"])}\n",
    "        groups[diff] = qgt\n",
    "    # общий набор\n",
    "    groups[\"all\"] = {q: [str(doc)] for q, doc in zip(df[\"query\"], df[\"article_id\"])}\n",
    "    return groups"
   ]
  },
  {
   "cell_type": "code",
   "execution_count": 49,
   "id": "fa87b49c",
   "metadata": {},
   "outputs": [
    {
     "ename": "TypeError",
     "evalue": "tuple indices must be integers or slices, not str",
     "output_type": "error",
     "traceback": [
      "\u001b[31m---------------------------------------------------------------------------\u001b[39m",
      "\u001b[31mTypeError\u001b[39m                                 Traceback (most recent call last)",
      "\u001b[36mCell\u001b[39m\u001b[36m \u001b[39m\u001b[32mIn[49]\u001b[39m\u001b[32m, line 3\u001b[39m\n\u001b[32m      1\u001b[39m df_synth = load_queries_gt(\u001b[33m\"\u001b[39m\u001b[33msynthetic_queries.csv\u001b[39m\u001b[33m\"\u001b[39m)\n\u001b[32m      2\u001b[39m queries_gt, article_ids = df_synth\n\u001b[32m----> \u001b[39m\u001b[32m3\u001b[39m q_groups = \u001b[43mqueries_by_diff\u001b[49m\u001b[43m(\u001b[49m\u001b[43mdf_synth\u001b[49m\u001b[43m)\u001b[49m\n\u001b[32m      4\u001b[39m \u001b[38;5;28mprint\u001b[39m(\u001b[33mf\u001b[39m\u001b[33m\"\u001b[39m\u001b[33mTotal requests: \u001b[39m\u001b[38;5;132;01m{\u001b[39;00m\u001b[38;5;28mlen\u001b[39m(queries_gt)\u001b[38;5;132;01m}\u001b[39;00m\u001b[33m, Documents in corpus: \u001b[39m\u001b[38;5;132;01m{\u001b[39;00m\u001b[38;5;28mlen\u001b[39m(article_ids)\u001b[38;5;132;01m}\u001b[39;00m\u001b[33m\"\u001b[39m)\n",
      "\u001b[36mCell\u001b[39m\u001b[36m \u001b[39m\u001b[32mIn[45]\u001b[39m\u001b[32m, line 6\u001b[39m, in \u001b[36mqueries_by_diff\u001b[39m\u001b[34m(df)\u001b[39m\n\u001b[32m      4\u001b[39m groups = {}\n\u001b[32m      5\u001b[39m \u001b[38;5;28;01mfor\u001b[39;00m diff \u001b[38;5;129;01min\u001b[39;00m (\u001b[33m\"\u001b[39m\u001b[33measy\u001b[39m\u001b[33m\"\u001b[39m, \u001b[33m\"\u001b[39m\u001b[33mmedium\u001b[39m\u001b[33m\"\u001b[39m, \u001b[33m\"\u001b[39m\u001b[33mhard\u001b[39m\u001b[33m\"\u001b[39m):\n\u001b[32m----> \u001b[39m\u001b[32m6\u001b[39m     sub = df[\u001b[43mdf\u001b[49m\u001b[43m[\u001b[49m\u001b[33;43m\"\u001b[39;49m\u001b[33;43mdifficulty\u001b[39;49m\u001b[33;43m\"\u001b[39;49m\u001b[43m]\u001b[49m == diff]\n\u001b[32m      7\u001b[39m     qgt = {q: [\u001b[38;5;28mstr\u001b[39m(doc)] \u001b[38;5;28;01mfor\u001b[39;00m q, doc \u001b[38;5;129;01min\u001b[39;00m \u001b[38;5;28mzip\u001b[39m(sub[\u001b[33m\"\u001b[39m\u001b[33mquery\u001b[39m\u001b[33m\"\u001b[39m], sub[\u001b[33m\"\u001b[39m\u001b[33marticle_id\u001b[39m\u001b[33m\"\u001b[39m])}\n\u001b[32m      8\u001b[39m     groups[diff] = qgt\n",
      "\u001b[31mTypeError\u001b[39m: tuple indices must be integers or slices, not str"
     ]
    }
   ],
   "source": [
    "df_synth = load_queries_gt(\"synthetic_queries.csv\")\n",
    "queries_gt, article_ids = df_synth\n",
    "q_groups = queries_by_diff(df_synth)\n",
    "print(f\"Total requests: {len(queries_gt)}, Documents in corpus: {len(article_ids)}\")"
   ]
  },
  {
   "cell_type": "code",
   "execution_count": 50,
   "id": "5d7a5a6e",
   "metadata": {},
   "outputs": [
    {
     "name": "stdout",
     "output_type": "stream",
     "text": [
      "News example: Официальной позиции Русской православной церкви по вопросу о подлинности царских останков пока нет. Об этом заявил Патриарх Московский и всея Руси Кир …\n"
     ]
    }
   ],
   "source": [
    "sql = text(\"\"\"\n",
    "    SELECT id::text,\n",
    "           COALESCE(title, '')   AS title,\n",
    "           COALESCE(anons, '')   AS anons,\n",
    "           COALESCE(body, '')    AS body\n",
    "      FROM public.tmp_news\n",
    "     WHERE id = ANY(:ids);\n",
    "\"\"\")\n",
    "\n",
    "df_docs = pd.read_sql(sql, engine, params={\"ids\": article_ids})\n",
    "\n",
    "\n",
    "df_docs[\"full_text\"] = (\n",
    "    df_docs[\"title\"] + \". \" +\n",
    "    df_docs[\"anons\"] + \". \" +\n",
    "    df_docs[\"body\"]\n",
    ")\n",
    "texts = df_docs[\"full_text\"].tolist()\n",
    "ids   = df_docs[\"id\"].tolist()\n",
    "\n",
    "print(\"News example:\", texts[0][:150], \"…\")"
   ]
  },
  {
   "cell_type": "markdown",
   "id": "a651ffec",
   "metadata": {},
   "source": [
    "Base Experiments"
   ]
  },
  {
   "cell_type": "code",
   "execution_count": 52,
   "id": "ec593bd9",
   "metadata": {},
   "outputs": [
    {
     "data": {
      "text/plain": [
       "{'easy': {'Precision@10': 0.09795918367346937,\n",
       "  'Recall@10': 0.9795918367346939,\n",
       "  'MRR': 0.9642857142857143},\n",
       " 'medium': {'Precision@10': 0.09595959595959594,\n",
       "  'Recall@10': 0.9595959595959596,\n",
       "  'MRR': 0.9287878787878788},\n",
       " 'hard': {'Precision@10': 0.09099999999999998,\n",
       "  'Recall@10': 0.91,\n",
       "  'MRR': 0.8089285714285714},\n",
       " 'all': {'Precision@10': 0.09494949494949494,\n",
       "  'Recall@10': 0.9494949494949495,\n",
       "  'MRR': 0.9001443001443001}}"
      ]
     },
     "execution_count": 52,
     "metadata": {},
     "output_type": "execute_result"
    }
   ],
   "source": [
    "tfidf_backend = TfidfResearch(max_features=30_000)\n",
    "tfidf_backend.index(texts, ids)\n",
    "\n",
    "metrics_by_level = {\n",
    "    lvl: evaluate(tfidf_backend, qgt, top_k=10)\n",
    "    for lvl, qgt in q_groups.items()\n",
    "}\n",
    "\n",
    "metrics_by_level"
   ]
  },
  {
   "cell_type": "code",
   "execution_count": null,
   "id": "0f3e53f2",
   "metadata": {},
   "outputs": [
    {
     "data": {
      "text/plain": [
       "{'easy': {'Precision@10': 0.09795918367346937,\n",
       "  'Recall@10': 0.9795918367346939,\n",
       "  'MRR': 0.9693877551020408},\n",
       " 'medium': {'Precision@10': 0.09595959595959594,\n",
       "  'Recall@10': 0.9595959595959596,\n",
       "  'MRR': 0.9301346801346803},\n",
       " 'hard': {'Precision@10': 0.09099999999999998,\n",
       "  'Recall@10': 0.91,\n",
       "  'MRR': 0.8142619047619047},\n",
       " 'all': {'Precision@10': 0.09494949494949494,\n",
       "  'Recall@10': 0.9494949494949495,\n",
       "  'MRR': 0.9040724707391373}}"
      ]
     },
     "execution_count": 53,
     "metadata": {},
     "output_type": "execute_result"
    }
   ],
   "source": [
    "bm25_backend = BM25Research()\n",
    "bm25_backend.index(texts, ids)\n",
    "\n",
    "metrics_by_level = {\n",
    "    lvl: evaluate(bm25_backend, qgt, top_k=10)\n",
    "    for lvl, qgt in q_groups.items()\n",
    "}\n",
    "\n",
    "metrics_by_level"
   ]
  },
  {
   "cell_type": "code",
   "execution_count": 54,
   "id": "9602ae99",
   "metadata": {},
   "outputs": [
    {
     "data": {
      "text/plain": [
       "{'easy': {'Precision@10': 0.09897959183673469,\n",
       "  'Recall@10': 0.9897959183673469,\n",
       "  'MRR': 0.9413265306122449},\n",
       " 'medium': {'Precision@10': 0.09898989898989898,\n",
       "  'Recall@10': 0.98989898989899,\n",
       "  'MRR': 0.957912457912458},\n",
       " 'hard': {'Precision@10': 0.09899999999999999,\n",
       "  'Recall@10': 0.99,\n",
       "  'MRR': 0.9633333333333333},\n",
       " 'all': {'Precision@10': 0.09898989898989899,\n",
       "  'Recall@10': 0.98989898989899,\n",
       "  'MRR': 0.9542648709315374}}"
      ]
     },
     "execution_count": 54,
     "metadata": {},
     "output_type": "execute_result"
    }
   ],
   "source": [
    "faiss_frida = FaissResearch(model_name=\"sergeyzh/BERTA\", embed_dim=768)\n",
    "faiss_frida.index(texts, ids)\n",
    "\n",
    "metrics_by_level = {\n",
    "    lvl: evaluate(faiss_frida, qgt, top_k=10)\n",
    "    for lvl, qgt in q_groups.items()\n",
    "}\n",
    "\n",
    "metrics_by_level"
   ]
  },
  {
   "cell_type": "code",
   "execution_count": 55,
   "id": "028d9771",
   "metadata": {},
   "outputs": [
    {
     "data": {
      "text/plain": [
       "{'easy': {'Precision@10': 0.09897959183673469,\n",
       "  'Recall@10': 0.9897959183673469,\n",
       "  'MRR': 0.9447278911564627},\n",
       " 'medium': {'Precision@10': 0.09898989898989898,\n",
       "  'Recall@10': 0.98989898989899,\n",
       "  'MRR': 0.9562289562289563},\n",
       " 'hard': {'Precision@10': 0.09899999999999999,\n",
       "  'Recall@10': 0.99,\n",
       "  'MRR': 0.9683333333333333},\n",
       " 'all': {'Precision@10': 0.09898989898989899,\n",
       "  'Recall@10': 0.98989898989899,\n",
       "  'MRR': 0.9565095398428731}}"
      ]
     },
     "execution_count": 55,
     "metadata": {},
     "output_type": "execute_result"
    }
   ],
   "source": [
    "qdrant_backend = QdrantResearch(\n",
    "    collection_name=\"news_research_synth\",\n",
    "    model_name=\"sergeyzh/BERTA\",\n",
    "    embed_dim=768,\n",
    ")\n",
    "qdrant_backend.index(texts, ids)\n",
    "\n",
    "metrics_by_level = {\n",
    "    lvl: evaluate(qdrant_backend, qgt, top_k=10)\n",
    "    for lvl, qgt in q_groups.items()\n",
    "}\n",
    "\n",
    "metrics_by_level"
   ]
  },
  {
   "cell_type": "markdown",
   "id": "8de543e6",
   "metadata": {},
   "source": [
    "*Additional experiments*"
   ]
  },
  {
   "cell_type": "markdown",
   "id": "0adc3be6",
   "metadata": {},
   "source": [
    "Lemmatise"
   ]
  },
  {
   "cell_type": "code",
   "execution_count": 29,
   "id": "14cc72ab",
   "metadata": {},
   "outputs": [
    {
     "name": "stderr",
     "output_type": "stream",
     "text": [
      "pymorphy lemmatize: 100%|██████████| 100/100 [00:01<00:00, 53.15it/s]\n",
      "lemmatize queries: 100%|██████████| 297/297 [00:00<00:00, 1296.42it/s]\n"
     ]
    }
   ],
   "source": [
    "import inspect\n",
    "if not hasattr(inspect, \"getargspec\"):\n",
    "    inspect.getargspec = inspect.getfullargspec      # <-- добавляем\n",
    "\n",
    "# теперь можно спокойно импортировать MorphAnalyzer\n",
    "from pymorphy2 import MorphAnalyzer\n",
    "import nltk, re\n",
    "nltk.download(\"punkt\", quiet=True)\n",
    "\n",
    "morph = MorphAnalyzer()\n",
    "\n",
    "def lemmatize_text(txt: str) -> str:\n",
    "    tokens = [tok for tok in nltk.word_tokenize(txt.lower()) if tok.isalpha()]\n",
    "    lemmas = [\n",
    "        morph.parse(tok)[0].normal_form\n",
    "        for tok in tokens\n",
    "        if len(tok) > 2\n",
    "    ]\n",
    "    return \" \".join(lemmas)\n",
    "\n",
    "# Применяем лемматизацию ко всем текстам (может быть долго, идёт прогресс-баром)\n",
    "texts_lemma = [lemmatize_text(t) for t in tqdm(texts, desc=\"pymorphy lemmatize\")]\n",
    "queries_gt_lemma: dict[str, list[str]] = {}\n",
    "\n",
    "for q, ids_list in tqdm(queries_gt.items(), desc=\"lemmatize queries\"):\n",
    "    lem_q = lemmatize_text(q)                  # ← ваша функция из шага 5.1\n",
    "    # объединяем id, если лемматизированный ключ уже встречался\n",
    "    queries_gt_lemma.setdefault(lem_q, []).extend(ids_list)\n",
    "\n",
    "# (необязательно) уберём дубликаты id в каждом списке\n",
    "for k in queries_gt_lemma:\n",
    "    queries_gt_lemma[k] = list(set(queries_gt_lemma[k]))"
   ]
  },
  {
   "cell_type": "code",
   "execution_count": null,
   "id": "aa8ee159",
   "metadata": {},
   "outputs": [
    {
     "name": "stdout",
     "output_type": "stream",
     "text": [
      "TF-IDF + Natasha-лемматизация: {'Precision@10': 0.09797979797979796, 'Recall@10': 0.9696969696969697, 'MRR': 0.9414141414141415}\n"
     ]
    }
   ],
   "source": [
    "tfidf_lemma = TfidfResearch(max_features=30_000)\n",
    "tfidf_lemma.index(texts_lemma, ids)\n",
    "metrics_tfidf_lemma = evaluate(tfidf_lemma, queries_gt_lemma, top_k=10)\n",
    "print(\"TF-IDF + Pymorphy:\", metrics_tfidf_lemma)"
   ]
  },
  {
   "cell_type": "code",
   "execution_count": null,
   "id": "65034479",
   "metadata": {},
   "outputs": [
    {
     "name": "stdout",
     "output_type": "stream",
     "text": [
      "BM-25 + Natasha-лемматизация: {'Precision@10': 0.09797979797979796, 'Recall@10': 0.9696969696969697, 'MRR': 0.9486531986531986}\n"
     ]
    }
   ],
   "source": [
    "bm25_backend = BM25Research()\n",
    "bm25_backend.index(texts_lemma, ids)\n",
    "metrics_bm25_lemma = evaluate(bm25_backend, queries_gt_lemma, top_k=10)\n",
    "print(\"BM-25 + Pymorphy:\", metrics_bm25_lemma)"
   ]
  },
  {
   "cell_type": "code",
   "execution_count": 33,
   "id": "7bb5510d",
   "metadata": {},
   "outputs": [
    {
     "name": "stdout",
     "output_type": "stream",
     "text": [
      "FAISS + Pymorphy: {'Precision@10': 0.09999999999999999, 'Recall@10': 0.98989898989899, 'MRR': 0.9562289562289562}\n"
     ]
    }
   ],
   "source": [
    "faiss_frida = FaissResearch(model_name=\"sergeyzh/BERTA\", embed_dim=768)\n",
    "faiss_frida.index(texts_lemma, ids)\n",
    "metrics_bm25_lemma = evaluate(faiss_frida, queries_gt_lemma, top_k=10)\n",
    "print(\"FAISS + Pymorphy:\", metrics_bm25_lemma)"
   ]
  },
  {
   "cell_type": "markdown",
   "id": "e3fe44f2",
   "metadata": {},
   "source": [
    "Spellchecker"
   ]
  },
  {
   "cell_type": "code",
   "execution_count": 35,
   "id": "9604d5f9",
   "metadata": {},
   "outputs": [
    {
     "name": "stderr",
     "output_type": "stream",
     "text": [
      "  0%|          | 0/297 [00:00<?, ?it/s]"
     ]
    },
    {
     "name": "stderr",
     "output_type": "stream",
     "text": [
      "100%|██████████| 297/297 [04:13<00:00,  1.17it/s]"
     ]
    },
    {
     "name": "stdout",
     "output_type": "stream",
     "text": [
      "BM25 + spell-коррекция: {'Precision@10': 0.09528619528619528, 'Recall@10': 0.9427609427609428, 'MRR': 0.8620490620490622}\n"
     ]
    },
    {
     "name": "stderr",
     "output_type": "stream",
     "text": [
      "\n"
     ]
    }
   ],
   "source": [
    "from spellchecker import SpellChecker\n",
    "spell = SpellChecker(language=\"ru\")\n",
    "\n",
    "def spell_correct(txt: str) -> str:\n",
    "    toks  = txt.split()\n",
    "    fixed = [spell.correction(t) or t for t in toks]\n",
    "    return \" \".join(fixed)\n",
    "\n",
    "\n",
    "queries_gt_spell = {spell_correct(q): gts for q, gts in tqdm(queries_gt.items())}\n",
    "\n",
    "bm25_spell = BM25Research()\n",
    "bm25_spell.index(texts, ids)\n",
    "metrics_bm25_spell = evaluate(bm25_spell, queries_gt_spell, top_k=10)\n",
    "print(\"BM25 + spell-коррекция:\", metrics_bm25_spell)\n"
   ]
  },
  {
   "cell_type": "markdown",
   "id": "d8fce1e1",
   "metadata": {},
   "source": [
    "Hybrid search"
   ]
  },
  {
   "cell_type": "code",
   "execution_count": 39,
   "id": "9d6d6cb3",
   "metadata": {},
   "outputs": [],
   "source": [
    "faiss_full = FaissResearch(model_name=\"sergeyzh/BERTA\")\n",
    "faiss_full.index(texts, ids)                 # ← долго, но один раз!\n",
    "doc_embs      = faiss_full.embeddings        # ndarray shape (N, 768)\n",
    "id2pos: dict  = {doc_id: i for i, doc_id in enumerate(ids)}\n"
   ]
  },
  {
   "cell_type": "code",
   "execution_count": null,
   "id": "11e798c8",
   "metadata": {},
   "outputs": [],
   "source": [
    "# 2. Быстрая гибрид-функция (без пересоздания индекса)\n",
    "# ──────────────────────────────────────────────────────────────\n",
    "def hybrid_search_fast(query: str, N: int = 100, top_k: int = 10):\n",
    "    # 2.1 топ-N TF-IDF (как раньше)\n",
    "    top_tfidf = tfidf_lemma.search(query, top_k=N)\n",
    "    sub_idx   = np.array([id2pos[d] for d, _ in top_tfidf], dtype=np.int64)\n",
    "\n",
    "    # 2.2 эмбеддинг запроса (одна API-вызов)\n",
    "    q_vec = faiss_full._get_embeddings([query])      # shape (1, 768)\n",
    "\n",
    "    # 2.3 косинус-скоры: q_vec (1×768) · doc_embs[sub_idx].T (768×N)\n",
    "    scores = np.squeeze(q_vec @ doc_embs[sub_idx].T)\n",
    "\n",
    "    # 2.4 сортируем\n",
    "    order  = np.argsort(scores)[::-1][:top_k]\n",
    "    result = [(ids[sub_idx[i]], float(scores[i])) for i in order]\n",
    "    return result\n",
    "\n",
    "\n",
    "class HybridFastBackend:\n",
    "    def __init__(self, N=100, top_k=10):\n",
    "        self.N = N\n",
    "        self.top_k = top_k\n",
    "    def index(self, *args, **kwargs):\n",
    "        pass                               # ничего не нужно — всё уже посчитано\n",
    "    def search(self, q, top_k=10):\n",
    "        return hybrid_search_fast(q, N=self.N, top_k=top_k)"
   ]
  },
  {
   "cell_type": "code",
   "execution_count": 44,
   "id": "62bc0e9e",
   "metadata": {},
   "outputs": [
    {
     "name": "stdout",
     "output_type": "stream",
     "text": [
      "Hybrid-FAST: {'Precision@10': 0.09999999999999999, 'Recall@10': 0.98989898989899, 'MRR': 0.9598765432098765}\n"
     ]
    }
   ],
   "source": [
    "\n",
    "hybrid_fast = HybridFastBackend(N=100)\n",
    "metrics_hybrid_fast = evaluate(hybrid_fast, queries_gt, top_k=10)\n",
    "print(\"Hybrid-FAST:\", metrics_hybrid_fast)"
   ]
  },
  {
   "cell_type": "markdown",
   "id": "9cba432c",
   "metadata": {},
   "source": [
    "Differentiated evaluation"
   ]
  },
  {
   "cell_type": "code",
   "execution_count": null,
   "id": "52c5245f",
   "metadata": {},
   "outputs": [
    {
     "ename": "ValueError",
     "evalue": "Unknown format code 'f' for object of type 'str'",
     "output_type": "error",
     "traceback": [
      "\u001b[31m---------------------------------------------------------------------------\u001b[39m",
      "\u001b[31mValueError\u001b[39m                                Traceback (most recent call last)",
      "\u001b[36mFile \u001b[39m\u001b[32m~/.local/lib/python3.12/site-packages/IPython/core/formatters.py:406\u001b[39m, in \u001b[36mBaseFormatter.__call__\u001b[39m\u001b[34m(self, obj)\u001b[39m\n\u001b[32m    404\u001b[39m     method = get_real_method(obj, \u001b[38;5;28mself\u001b[39m.print_method)\n\u001b[32m    405\u001b[39m     \u001b[38;5;28;01mif\u001b[39;00m method \u001b[38;5;129;01mis\u001b[39;00m \u001b[38;5;129;01mnot\u001b[39;00m \u001b[38;5;28;01mNone\u001b[39;00m:\n\u001b[32m--> \u001b[39m\u001b[32m406\u001b[39m         \u001b[38;5;28;01mreturn\u001b[39;00m \u001b[43mmethod\u001b[49m\u001b[43m(\u001b[49m\u001b[43m)\u001b[49m\n\u001b[32m    407\u001b[39m     \u001b[38;5;28;01mreturn\u001b[39;00m \u001b[38;5;28;01mNone\u001b[39;00m\n\u001b[32m    408\u001b[39m \u001b[38;5;28;01melse\u001b[39;00m:\n",
      "\u001b[36mFile \u001b[39m\u001b[32m~/.local/lib/python3.12/site-packages/pandas/io/formats/style.py:405\u001b[39m, in \u001b[36mStyler._repr_html_\u001b[39m\u001b[34m(self)\u001b[39m\n\u001b[32m    400\u001b[39m \u001b[38;5;250m\u001b[39m\u001b[33;03m\"\"\"\u001b[39;00m\n\u001b[32m    401\u001b[39m \u001b[33;03mHooks into Jupyter notebook rich display system, which calls _repr_html_ by\u001b[39;00m\n\u001b[32m    402\u001b[39m \u001b[33;03mdefault if an object is returned at the end of a cell.\u001b[39;00m\n\u001b[32m    403\u001b[39m \u001b[33;03m\"\"\"\u001b[39;00m\n\u001b[32m    404\u001b[39m \u001b[38;5;28;01mif\u001b[39;00m get_option(\u001b[33m\"\u001b[39m\u001b[33mstyler.render.repr\u001b[39m\u001b[33m\"\u001b[39m) == \u001b[33m\"\u001b[39m\u001b[33mhtml\u001b[39m\u001b[33m\"\u001b[39m:\n\u001b[32m--> \u001b[39m\u001b[32m405\u001b[39m     \u001b[38;5;28;01mreturn\u001b[39;00m \u001b[38;5;28;43mself\u001b[39;49m\u001b[43m.\u001b[49m\u001b[43mto_html\u001b[49m\u001b[43m(\u001b[49m\u001b[43m)\u001b[49m\n\u001b[32m    406\u001b[39m \u001b[38;5;28;01mreturn\u001b[39;00m \u001b[38;5;28;01mNone\u001b[39;00m\n",
      "\u001b[36mFile \u001b[39m\u001b[32m~/.local/lib/python3.12/site-packages/pandas/io/formats/style.py:1345\u001b[39m, in \u001b[36mStyler.to_html\u001b[39m\u001b[34m(self, buf, table_uuid, table_attributes, sparse_index, sparse_columns, bold_headers, caption, max_rows, max_columns, encoding, doctype_html, exclude_styles, **kwargs)\u001b[39m\n\u001b[32m   1342\u001b[39m     obj.set_caption(caption)\n\u001b[32m   1344\u001b[39m \u001b[38;5;66;03m# Build HTML string..\u001b[39;00m\n\u001b[32m-> \u001b[39m\u001b[32m1345\u001b[39m html = \u001b[43mobj\u001b[49m\u001b[43m.\u001b[49m\u001b[43m_render_html\u001b[49m\u001b[43m(\u001b[49m\n\u001b[32m   1346\u001b[39m \u001b[43m    \u001b[49m\u001b[43msparse_index\u001b[49m\u001b[43m=\u001b[49m\u001b[43msparse_index\u001b[49m\u001b[43m,\u001b[49m\n\u001b[32m   1347\u001b[39m \u001b[43m    \u001b[49m\u001b[43msparse_columns\u001b[49m\u001b[43m=\u001b[49m\u001b[43msparse_columns\u001b[49m\u001b[43m,\u001b[49m\n\u001b[32m   1348\u001b[39m \u001b[43m    \u001b[49m\u001b[43mmax_rows\u001b[49m\u001b[43m=\u001b[49m\u001b[43mmax_rows\u001b[49m\u001b[43m,\u001b[49m\n\u001b[32m   1349\u001b[39m \u001b[43m    \u001b[49m\u001b[43mmax_cols\u001b[49m\u001b[43m=\u001b[49m\u001b[43mmax_columns\u001b[49m\u001b[43m,\u001b[49m\n\u001b[32m   1350\u001b[39m \u001b[43m    \u001b[49m\u001b[43mexclude_styles\u001b[49m\u001b[43m=\u001b[49m\u001b[43mexclude_styles\u001b[49m\u001b[43m,\u001b[49m\n\u001b[32m   1351\u001b[39m \u001b[43m    \u001b[49m\u001b[43mencoding\u001b[49m\u001b[43m=\u001b[49m\u001b[43mencoding\u001b[49m\u001b[43m \u001b[49m\u001b[38;5;129;43;01mor\u001b[39;49;00m\u001b[43m \u001b[49m\u001b[43mget_option\u001b[49m\u001b[43m(\u001b[49m\u001b[33;43m\"\u001b[39;49m\u001b[33;43mstyler.render.encoding\u001b[39;49m\u001b[33;43m\"\u001b[39;49m\u001b[43m)\u001b[49m\u001b[43m,\u001b[49m\n\u001b[32m   1352\u001b[39m \u001b[43m    \u001b[49m\u001b[43mdoctype_html\u001b[49m\u001b[43m=\u001b[49m\u001b[43mdoctype_html\u001b[49m\u001b[43m,\u001b[49m\n\u001b[32m   1353\u001b[39m \u001b[43m    \u001b[49m\u001b[43m*\u001b[49m\u001b[43m*\u001b[49m\u001b[43mkwargs\u001b[49m\u001b[43m,\u001b[49m\n\u001b[32m   1354\u001b[39m \u001b[43m\u001b[49m\u001b[43m)\u001b[49m\n\u001b[32m   1356\u001b[39m \u001b[38;5;28;01mreturn\u001b[39;00m save_to_buffer(\n\u001b[32m   1357\u001b[39m     html, buf=buf, encoding=(encoding \u001b[38;5;28;01mif\u001b[39;00m buf \u001b[38;5;129;01mis\u001b[39;00m \u001b[38;5;129;01mnot\u001b[39;00m \u001b[38;5;28;01mNone\u001b[39;00m \u001b[38;5;28;01melse\u001b[39;00m \u001b[38;5;28;01mNone\u001b[39;00m)\n\u001b[32m   1358\u001b[39m )\n",
      "\u001b[36mFile \u001b[39m\u001b[32m~/.local/lib/python3.12/site-packages/pandas/io/formats/style_render.py:204\u001b[39m, in \u001b[36mStylerRenderer._render_html\u001b[39m\u001b[34m(self, sparse_index, sparse_columns, max_rows, max_cols, **kwargs)\u001b[39m\n\u001b[32m    192\u001b[39m \u001b[38;5;28;01mdef\u001b[39;00m\u001b[38;5;250m \u001b[39m\u001b[34m_render_html\u001b[39m(\n\u001b[32m    193\u001b[39m     \u001b[38;5;28mself\u001b[39m,\n\u001b[32m    194\u001b[39m     sparse_index: \u001b[38;5;28mbool\u001b[39m,\n\u001b[32m   (...)\u001b[39m\u001b[32m    198\u001b[39m     **kwargs,\n\u001b[32m    199\u001b[39m ) -> \u001b[38;5;28mstr\u001b[39m:\n\u001b[32m    200\u001b[39m \u001b[38;5;250m    \u001b[39m\u001b[33;03m\"\"\"\u001b[39;00m\n\u001b[32m    201\u001b[39m \u001b[33;03m    Renders the ``Styler`` including all applied styles to HTML.\u001b[39;00m\n\u001b[32m    202\u001b[39m \u001b[33;03m    Generates a dict with necessary kwargs passed to jinja2 template.\u001b[39;00m\n\u001b[32m    203\u001b[39m \u001b[33;03m    \"\"\"\u001b[39;00m\n\u001b[32m--> \u001b[39m\u001b[32m204\u001b[39m     d = \u001b[38;5;28;43mself\u001b[39;49m\u001b[43m.\u001b[49m\u001b[43m_render\u001b[49m\u001b[43m(\u001b[49m\u001b[43msparse_index\u001b[49m\u001b[43m,\u001b[49m\u001b[43m \u001b[49m\u001b[43msparse_columns\u001b[49m\u001b[43m,\u001b[49m\u001b[43m \u001b[49m\u001b[43mmax_rows\u001b[49m\u001b[43m,\u001b[49m\u001b[43m \u001b[49m\u001b[43mmax_cols\u001b[49m\u001b[43m,\u001b[49m\u001b[43m \u001b[49m\u001b[33;43m\"\u001b[39;49m\u001b[33;43m&nbsp;\u001b[39;49m\u001b[33;43m\"\u001b[39;49m\u001b[43m)\u001b[49m\n\u001b[32m    205\u001b[39m     d.update(kwargs)\n\u001b[32m    206\u001b[39m     \u001b[38;5;28;01mreturn\u001b[39;00m \u001b[38;5;28mself\u001b[39m.template_html.render(\n\u001b[32m    207\u001b[39m         **d,\n\u001b[32m    208\u001b[39m         html_table_tpl=\u001b[38;5;28mself\u001b[39m.template_html_table,\n\u001b[32m    209\u001b[39m         html_style_tpl=\u001b[38;5;28mself\u001b[39m.template_html_style,\n\u001b[32m    210\u001b[39m     )\n",
      "\u001b[36mFile \u001b[39m\u001b[32m~/.local/lib/python3.12/site-packages/pandas/io/formats/style_render.py:187\u001b[39m, in \u001b[36mStylerRenderer._render\u001b[39m\u001b[34m(self, sparse_index, sparse_columns, max_rows, max_cols, blank)\u001b[39m\n\u001b[32m    183\u001b[39m         \u001b[38;5;28mself\u001b[39m.ctx_index[(r + ctx_len, c)] = v\n\u001b[32m    185\u001b[39m     ctx_len += \u001b[38;5;28mlen\u001b[39m(concatenated.index)\n\u001b[32m--> \u001b[39m\u001b[32m187\u001b[39m d = \u001b[38;5;28;43mself\u001b[39;49m\u001b[43m.\u001b[49m\u001b[43m_translate\u001b[49m\u001b[43m(\u001b[49m\n\u001b[32m    188\u001b[39m \u001b[43m    \u001b[49m\u001b[43msparse_index\u001b[49m\u001b[43m,\u001b[49m\u001b[43m \u001b[49m\u001b[43msparse_columns\u001b[49m\u001b[43m,\u001b[49m\u001b[43m \u001b[49m\u001b[43mmax_rows\u001b[49m\u001b[43m,\u001b[49m\u001b[43m \u001b[49m\u001b[43mmax_cols\u001b[49m\u001b[43m,\u001b[49m\u001b[43m \u001b[49m\u001b[43mblank\u001b[49m\u001b[43m,\u001b[49m\u001b[43m \u001b[49m\u001b[43mdxs\u001b[49m\n\u001b[32m    189\u001b[39m \u001b[43m\u001b[49m\u001b[43m)\u001b[49m\n\u001b[32m    190\u001b[39m \u001b[38;5;28;01mreturn\u001b[39;00m d\n",
      "\u001b[36mFile \u001b[39m\u001b[32m~/.local/lib/python3.12/site-packages/pandas/io/formats/style_render.py:335\u001b[39m, in \u001b[36mStylerRenderer._translate\u001b[39m\u001b[34m(self, sparse_index, sparse_cols, max_rows, max_cols, blank, dxs)\u001b[39m\n\u001b[32m    329\u001b[39m \u001b[38;5;28mself\u001b[39m.cellstyle_map: DefaultDict[\u001b[38;5;28mtuple\u001b[39m[CSSPair, ...], \u001b[38;5;28mlist\u001b[39m[\u001b[38;5;28mstr\u001b[39m]] = defaultdict(\n\u001b[32m    330\u001b[39m     \u001b[38;5;28mlist\u001b[39m\n\u001b[32m    331\u001b[39m )\n\u001b[32m    332\u001b[39m \u001b[38;5;28mself\u001b[39m.cellstyle_map_index: DefaultDict[\n\u001b[32m    333\u001b[39m     \u001b[38;5;28mtuple\u001b[39m[CSSPair, ...], \u001b[38;5;28mlist\u001b[39m[\u001b[38;5;28mstr\u001b[39m]\n\u001b[32m    334\u001b[39m ] = defaultdict(\u001b[38;5;28mlist\u001b[39m)\n\u001b[32m--> \u001b[39m\u001b[32m335\u001b[39m body: \u001b[38;5;28mlist\u001b[39m = \u001b[38;5;28;43mself\u001b[39;49m\u001b[43m.\u001b[49m\u001b[43m_translate_body\u001b[49m\u001b[43m(\u001b[49m\u001b[43midx_lengths\u001b[49m\u001b[43m,\u001b[49m\u001b[43m \u001b[49m\u001b[43mmax_rows\u001b[49m\u001b[43m,\u001b[49m\u001b[43m \u001b[49m\u001b[43mmax_cols\u001b[49m\u001b[43m)\u001b[49m\n\u001b[32m    336\u001b[39m d.update({\u001b[33m\"\u001b[39m\u001b[33mbody\u001b[39m\u001b[33m\"\u001b[39m: body})\n\u001b[32m    338\u001b[39m ctx_maps = {\n\u001b[32m    339\u001b[39m     \u001b[33m\"\u001b[39m\u001b[33mcellstyle\u001b[39m\u001b[33m\"\u001b[39m: \u001b[33m\"\u001b[39m\u001b[33mcellstyle_map\u001b[39m\u001b[33m\"\u001b[39m,\n\u001b[32m    340\u001b[39m     \u001b[33m\"\u001b[39m\u001b[33mcellstyle_index\u001b[39m\u001b[33m\"\u001b[39m: \u001b[33m\"\u001b[39m\u001b[33mcellstyle_map_index\u001b[39m\u001b[33m\"\u001b[39m,\n\u001b[32m    341\u001b[39m     \u001b[33m\"\u001b[39m\u001b[33mcellstyle_columns\u001b[39m\u001b[33m\"\u001b[39m: \u001b[33m\"\u001b[39m\u001b[33mcellstyle_map_columns\u001b[39m\u001b[33m\"\u001b[39m,\n\u001b[32m    342\u001b[39m }  \u001b[38;5;66;03m# add the cell_ids styles map to the render dictionary in right format\u001b[39;00m\n",
      "\u001b[36mFile \u001b[39m\u001b[32m~/.local/lib/python3.12/site-packages/pandas/io/formats/style_render.py:629\u001b[39m, in \u001b[36mStylerRenderer._translate_body\u001b[39m\u001b[34m(self, idx_lengths, max_rows, max_cols)\u001b[39m\n\u001b[32m    621\u001b[39m     \u001b[38;5;28;01mif\u001b[39;00m \u001b[38;5;28mself\u001b[39m._check_trim(\n\u001b[32m    622\u001b[39m         visible_row_count,\n\u001b[32m    623\u001b[39m         max_rows,\n\u001b[32m    624\u001b[39m         body,\n\u001b[32m    625\u001b[39m         \u001b[33m\"\u001b[39m\u001b[33mrow\u001b[39m\u001b[33m\"\u001b[39m,\n\u001b[32m    626\u001b[39m     ):\n\u001b[32m    627\u001b[39m         \u001b[38;5;28;01mbreak\u001b[39;00m\n\u001b[32m--> \u001b[39m\u001b[32m629\u001b[39m     body_row = \u001b[38;5;28;43mself\u001b[39;49m\u001b[43m.\u001b[49m\u001b[43m_generate_body_row\u001b[49m\u001b[43m(\u001b[49m\n\u001b[32m    630\u001b[39m \u001b[43m        \u001b[49m\u001b[43m(\u001b[49m\u001b[43mr\u001b[49m\u001b[43m,\u001b[49m\u001b[43m \u001b[49m\u001b[43mrow_tup\u001b[49m\u001b[43m,\u001b[49m\u001b[43m \u001b[49m\u001b[43mrlabels\u001b[49m\u001b[43m)\u001b[49m\u001b[43m,\u001b[49m\u001b[43m \u001b[49m\u001b[43mmax_cols\u001b[49m\u001b[43m,\u001b[49m\u001b[43m \u001b[49m\u001b[43midx_lengths\u001b[49m\n\u001b[32m    631\u001b[39m \u001b[43m    \u001b[49m\u001b[43m)\u001b[49m\n\u001b[32m    632\u001b[39m     body.append(body_row)\n\u001b[32m    633\u001b[39m \u001b[38;5;28;01mreturn\u001b[39;00m body\n",
      "\u001b[36mFile \u001b[39m\u001b[32m~/.local/lib/python3.12/site-packages/pandas/io/formats/style_render.py:826\u001b[39m, in \u001b[36mStylerRenderer._generate_body_row\u001b[39m\u001b[34m(self, iter, max_cols, idx_lengths)\u001b[39m\n\u001b[32m    814\u001b[39m \u001b[38;5;28;01mif\u001b[39;00m (r, c) \u001b[38;5;129;01min\u001b[39;00m \u001b[38;5;28mself\u001b[39m.cell_context:\n\u001b[32m    815\u001b[39m     \u001b[38;5;28mcls\u001b[39m = \u001b[33m\"\u001b[39m\u001b[33m \u001b[39m\u001b[33m\"\u001b[39m + \u001b[38;5;28mself\u001b[39m.cell_context[r, c]\n\u001b[32m    817\u001b[39m data_element = _element(\n\u001b[32m    818\u001b[39m     \u001b[33m\"\u001b[39m\u001b[33mtd\u001b[39m\u001b[33m\"\u001b[39m,\n\u001b[32m    819\u001b[39m     (\n\u001b[32m    820\u001b[39m         \u001b[33mf\u001b[39m\u001b[33m\"\u001b[39m\u001b[38;5;132;01m{\u001b[39;00m\u001b[38;5;28mself\u001b[39m.css[\u001b[33m'\u001b[39m\u001b[33mdata\u001b[39m\u001b[33m'\u001b[39m]\u001b[38;5;132;01m}\u001b[39;00m\u001b[33m \u001b[39m\u001b[38;5;132;01m{\u001b[39;00m\u001b[38;5;28mself\u001b[39m.css[\u001b[33m'\u001b[39m\u001b[33mrow\u001b[39m\u001b[33m'\u001b[39m]\u001b[38;5;132;01m}\u001b[39;00m\u001b[38;5;132;01m{\u001b[39;00mr\u001b[38;5;132;01m}\u001b[39;00m\u001b[33m \u001b[39m\u001b[33m\"\u001b[39m\n\u001b[32m    821\u001b[39m         \u001b[33mf\u001b[39m\u001b[33m\"\u001b[39m\u001b[38;5;132;01m{\u001b[39;00m\u001b[38;5;28mself\u001b[39m.css[\u001b[33m'\u001b[39m\u001b[33mcol\u001b[39m\u001b[33m'\u001b[39m]\u001b[38;5;132;01m}\u001b[39;00m\u001b[38;5;132;01m{\u001b[39;00mc\u001b[38;5;132;01m}\u001b[39;00m\u001b[38;5;132;01m{\u001b[39;00m\u001b[38;5;28mcls\u001b[39m\u001b[38;5;132;01m}\u001b[39;00m\u001b[33m\"\u001b[39m\n\u001b[32m    822\u001b[39m     ),\n\u001b[32m    823\u001b[39m     value,\n\u001b[32m    824\u001b[39m     data_element_visible,\n\u001b[32m    825\u001b[39m     attributes=\u001b[33m\"\u001b[39m\u001b[33m\"\u001b[39m,\n\u001b[32m--> \u001b[39m\u001b[32m826\u001b[39m     display_value=\u001b[38;5;28;43mself\u001b[39;49m\u001b[43m.\u001b[49m\u001b[43m_display_funcs\u001b[49m\u001b[43m[\u001b[49m\u001b[43m(\u001b[49m\u001b[43mr\u001b[49m\u001b[43m,\u001b[49m\u001b[43m \u001b[49m\u001b[43mc\u001b[49m\u001b[43m)\u001b[49m\u001b[43m]\u001b[49m\u001b[43m(\u001b[49m\u001b[43mvalue\u001b[49m\u001b[43m)\u001b[49m,\n\u001b[32m    827\u001b[39m )\n\u001b[32m    829\u001b[39m \u001b[38;5;28;01mif\u001b[39;00m \u001b[38;5;28mself\u001b[39m.cell_ids:\n\u001b[32m    830\u001b[39m     data_element[\u001b[33m\"\u001b[39m\u001b[33mid\u001b[39m\u001b[33m\"\u001b[39m] = \u001b[33mf\u001b[39m\u001b[33m\"\u001b[39m\u001b[38;5;132;01m{\u001b[39;00m\u001b[38;5;28mself\u001b[39m.css[\u001b[33m'\u001b[39m\u001b[33mrow\u001b[39m\u001b[33m'\u001b[39m]\u001b[38;5;132;01m}\u001b[39;00m\u001b[38;5;132;01m{\u001b[39;00mr\u001b[38;5;132;01m}\u001b[39;00m\u001b[33m_\u001b[39m\u001b[38;5;132;01m{\u001b[39;00m\u001b[38;5;28mself\u001b[39m.css[\u001b[33m'\u001b[39m\u001b[33mcol\u001b[39m\u001b[33m'\u001b[39m]\u001b[38;5;132;01m}\u001b[39;00m\u001b[38;5;132;01m{\u001b[39;00mc\u001b[38;5;132;01m}\u001b[39;00m\u001b[33m\"\u001b[39m\n",
      "\u001b[36mFile \u001b[39m\u001b[32m~/.local/lib/python3.12/site-packages/pandas/io/formats/style_render.py:1829\u001b[39m, in \u001b[36m_maybe_wrap_formatter.<locals>.<lambda>\u001b[39m\u001b[34m(x)\u001b[39m\n\u001b[32m   1827\u001b[39m \u001b[38;5;66;03m# Get initial func from input string, input callable, or from default factory\u001b[39;00m\n\u001b[32m   1828\u001b[39m \u001b[38;5;28;01mif\u001b[39;00m \u001b[38;5;28misinstance\u001b[39m(formatter, \u001b[38;5;28mstr\u001b[39m):\n\u001b[32m-> \u001b[39m\u001b[32m1829\u001b[39m     func_0 = \u001b[38;5;28;01mlambda\u001b[39;00m x: \u001b[43mformatter\u001b[49m\u001b[43m.\u001b[49m\u001b[43mformat\u001b[49m\u001b[43m(\u001b[49m\u001b[43mx\u001b[49m\u001b[43m)\u001b[49m\n\u001b[32m   1830\u001b[39m \u001b[38;5;28;01melif\u001b[39;00m \u001b[38;5;28mcallable\u001b[39m(formatter):\n\u001b[32m   1831\u001b[39m     func_0 = formatter\n",
      "\u001b[31mValueError\u001b[39m: Unknown format code 'f' for object of type 'str'"
     ]
    },
    {
     "data": {
      "text/plain": [
       "<pandas.io.formats.style.Styler at 0x744529cce990>"
      ]
     },
     "metadata": {},
     "output_type": "display_data"
    }
   ],
   "source": [
    "df_synth = pd.read_csv(\"synthetic_queries.csv\")\n",
    "\n",
    "\n",
    "\n",
    "q_groups = queries_by_diff(df_synth)\n",
    "\n",
    "# ──────────────────────────────────────────────────────────────\n",
    "# 2. Backend (любой). Возьмём оптимизированный гибрид\n",
    "# ──────────────────────────────────────────────────────────────\n",
    "hybrid_fast = HybridFastBackend(N=50)\n",
    "\n",
    "# ──────────────────────────────────────────────────────────────\n",
    "# 3. Считаем метрики по каждому уровню сложности\n",
    "# ──────────────────────────────────────────────────────────────\n",
    "metrics_by_level = {\n",
    "    lvl: evaluate(hybrid_fast, qgt, top_k=10)\n",
    "    for lvl, qgt in q_groups.items()\n",
    "}"
   ]
  },
  {
   "cell_type": "code",
   "execution_count": 46,
   "id": "b3a5b8e9",
   "metadata": {},
   "outputs": [
    {
     "data": {
      "text/plain": [
       "{'easy': {'Precision@10': 0.09081632653061222,\n",
       "  'Recall@10': 0.9081632653061225,\n",
       "  'MRR': 0.8928571428571429},\n",
       " 'medium': {'Precision@10': 0.08989898989898988,\n",
       "  'Recall@10': 0.898989898989899,\n",
       "  'MRR': 0.8888888888888888},\n",
       " 'hard': {'Precision@10': 0.086, 'Recall@10': 0.86, 'MRR': 0.85},\n",
       " 'all': {'Precision@10': 0.08888888888888888,\n",
       "  'Recall@10': 0.8888888888888888,\n",
       "  'MRR': 0.877104377104377}}"
      ]
     },
     "execution_count": 46,
     "metadata": {},
     "output_type": "execute_result"
    }
   ],
   "source": [
    "metrics_by_level"
   ]
  },
  {
   "cell_type": "code",
   "execution_count": null,
   "id": "0c21cfcd",
   "metadata": {},
   "outputs": [],
   "source": []
  }
 ],
 "metadata": {
  "kernelspec": {
   "display_name": "Python 3",
   "language": "python",
   "name": "python3"
  },
  "language_info": {
   "codemirror_mode": {
    "name": "ipython",
    "version": 3
   },
   "file_extension": ".py",
   "mimetype": "text/x-python",
   "name": "python",
   "nbconvert_exporter": "python",
   "pygments_lexer": "ipython3",
   "version": "3.12.1"
  }
 },
 "nbformat": 4,
 "nbformat_minor": 5
}
